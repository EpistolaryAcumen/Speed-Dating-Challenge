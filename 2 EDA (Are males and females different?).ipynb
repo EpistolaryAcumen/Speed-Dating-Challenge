{
 "cells": [
  {
   "cell_type": "code",
   "execution_count": 7,
   "metadata": {},
   "outputs": [],
   "source": [
    "import os\n",
    "import numpy as np\n",
    "import pandas as pd\n",
    "import matplotlib.pyplot as plt\n",
    "import seaborn as sns\n",
    "%matplotlib inline\n",
    "\n",
    "os.chdir('/Users/wynnephilpott/Documents/missing pauldron/Data Science/datasets')\n",
    "df = pd.read_csv('speed.csv', encoding = \"ISO-8859-1\")"
   ]
  },
  {
   "cell_type": "markdown",
   "metadata": {},
   "source": [
    "Daters were asked to allocate 100 points to what attributes they value in a potential partner. The attributes are attraction, sincerity, intelligence, fun, amition, shared interests. Lets create a dataframe w/ these fields and explore. Keep 'iid' analysis and 'gender' b/c we will stratify by it."
   ]
  },
  {
   "cell_type": "code",
   "execution_count": 18,
   "metadata": {},
   "outputs": [],
   "source": [
    "df = df[['iid','gender','attr1_1','sinc1_1','intel1_1','fun1_1','amb1_1','shar1_1']]"
   ]
  },
  {
   "cell_type": "code",
   "execution_count": 19,
   "metadata": {},
   "outputs": [],
   "source": [
    "#drop missing rows\n",
    "df.dropna(axis=0,inplace=True)"
   ]
  },
  {
   "cell_type": "code",
   "execution_count": 20,
   "metadata": {
    "scrolled": true
   },
   "outputs": [
    {
     "name": "stdout",
     "output_type": "stream",
     "text": [
      "(8257, 8)\n",
      "(541, 7)\n"
     ]
    }
   ],
   "source": [
    "#group by iid to deduplicate\n",
    "\n",
    "dfg = df.groupby('iid').mean()\n",
    "\n",
    "print(df.shape)\n",
    "print(dfg.shape)"
   ]
  },
  {
   "cell_type": "code",
   "execution_count": 25,
   "metadata": {},
   "outputs": [],
   "source": [
    "#generate a list of how daters allocate points on average\n",
    "l = []\n",
    "for field in dfg.drop('gender',axis=1):\n",
    "    l.append(dfg[field].mean())\n",
    "l = [round(n, 2) for n in l]"
   ]
  },
  {
   "cell_type": "code",
   "execution_count": 27,
   "metadata": {},
   "outputs": [
    {
     "data": {
      "text/html": [
       "<div>\n",
       "<style scoped>\n",
       "    .dataframe tbody tr th:only-of-type {\n",
       "        vertical-align: middle;\n",
       "    }\n",
       "\n",
       "    .dataframe tbody tr th {\n",
       "        vertical-align: top;\n",
       "    }\n",
       "\n",
       "    .dataframe thead th {\n",
       "        text-align: right;\n",
       "    }\n",
       "</style>\n",
       "<table border=\"1\" class=\"dataframe\">\n",
       "  <thead>\n",
       "    <tr style=\"text-align: right;\">\n",
       "      <th></th>\n",
       "      <th>Average</th>\n",
       "    </tr>\n",
       "  </thead>\n",
       "  <tbody>\n",
       "    <tr>\n",
       "      <th>attr1_1</th>\n",
       "      <td>22.52</td>\n",
       "    </tr>\n",
       "    <tr>\n",
       "      <th>sinc1_1</th>\n",
       "      <td>17.31</td>\n",
       "    </tr>\n",
       "    <tr>\n",
       "      <th>intel1_1</th>\n",
       "      <td>20.17</td>\n",
       "    </tr>\n",
       "    <tr>\n",
       "      <th>fun1_1</th>\n",
       "      <td>17.46</td>\n",
       "    </tr>\n",
       "    <tr>\n",
       "      <th>amb1_1</th>\n",
       "      <td>10.81</td>\n",
       "    </tr>\n",
       "    <tr>\n",
       "      <th>shar1_1</th>\n",
       "      <td>11.83</td>\n",
       "    </tr>\n",
       "  </tbody>\n",
       "</table>\n",
       "</div>"
      ],
      "text/plain": [
       "          Average\n",
       "attr1_1     22.52\n",
       "sinc1_1     17.31\n",
       "intel1_1    20.17\n",
       "fun1_1      17.46\n",
       "amb1_1      10.81\n",
       "shar1_1     11.83"
      ]
     },
     "execution_count": 27,
     "metadata": {},
     "output_type": "execute_result"
    }
   ],
   "source": [
    "#generate a dataframe using above list\n",
    "avg_allocation = pd.DataFrame(l,dfg.drop('gender',axis=1).columns)\n",
    "avg_allocation.columns = ['Average']\n",
    "avg_allocation"
   ]
  },
  {
   "cell_type": "code",
   "execution_count": 28,
   "metadata": {},
   "outputs": [
    {
     "data": {
      "text/html": [
       "<div>\n",
       "<style scoped>\n",
       "    .dataframe tbody tr th:only-of-type {\n",
       "        vertical-align: middle;\n",
       "    }\n",
       "\n",
       "    .dataframe tbody tr th {\n",
       "        vertical-align: top;\n",
       "    }\n",
       "\n",
       "    .dataframe thead th {\n",
       "        text-align: right;\n",
       "    }\n",
       "</style>\n",
       "<table border=\"1\" class=\"dataframe\">\n",
       "  <thead>\n",
       "    <tr style=\"text-align: right;\">\n",
       "      <th></th>\n",
       "      <th>count</th>\n",
       "      <th>mean</th>\n",
       "      <th>std</th>\n",
       "      <th>min</th>\n",
       "      <th>25%</th>\n",
       "      <th>50%</th>\n",
       "      <th>75%</th>\n",
       "      <th>max</th>\n",
       "    </tr>\n",
       "  </thead>\n",
       "  <tbody>\n",
       "    <tr>\n",
       "      <th>attr1_1</th>\n",
       "      <td>541.0</td>\n",
       "      <td>22.515527</td>\n",
       "      <td>12.727252</td>\n",
       "      <td>0.0</td>\n",
       "      <td>15.00</td>\n",
       "      <td>20.0</td>\n",
       "      <td>25.0</td>\n",
       "      <td>100.0</td>\n",
       "    </tr>\n",
       "    <tr>\n",
       "      <th>sinc1_1</th>\n",
       "      <td>541.0</td>\n",
       "      <td>17.312699</td>\n",
       "      <td>7.210096</td>\n",
       "      <td>0.0</td>\n",
       "      <td>15.00</td>\n",
       "      <td>18.0</td>\n",
       "      <td>20.0</td>\n",
       "      <td>60.0</td>\n",
       "    </tr>\n",
       "    <tr>\n",
       "      <th>intel1_1</th>\n",
       "      <td>541.0</td>\n",
       "      <td>20.171423</td>\n",
       "      <td>6.871165</td>\n",
       "      <td>0.0</td>\n",
       "      <td>17.31</td>\n",
       "      <td>20.0</td>\n",
       "      <td>23.0</td>\n",
       "      <td>50.0</td>\n",
       "    </tr>\n",
       "    <tr>\n",
       "      <th>fun1_1</th>\n",
       "      <td>541.0</td>\n",
       "      <td>17.460425</td>\n",
       "      <td>6.193168</td>\n",
       "      <td>0.0</td>\n",
       "      <td>15.00</td>\n",
       "      <td>18.0</td>\n",
       "      <td>20.0</td>\n",
       "      <td>50.0</td>\n",
       "    </tr>\n",
       "    <tr>\n",
       "      <th>amb1_1</th>\n",
       "      <td>541.0</td>\n",
       "      <td>10.807967</td>\n",
       "      <td>6.234773</td>\n",
       "      <td>0.0</td>\n",
       "      <td>5.00</td>\n",
       "      <td>10.0</td>\n",
       "      <td>15.0</td>\n",
       "      <td>53.0</td>\n",
       "    </tr>\n",
       "    <tr>\n",
       "      <th>shar1_1</th>\n",
       "      <td>541.0</td>\n",
       "      <td>11.832126</td>\n",
       "      <td>6.474104</td>\n",
       "      <td>0.0</td>\n",
       "      <td>8.33</td>\n",
       "      <td>11.0</td>\n",
       "      <td>16.0</td>\n",
       "      <td>30.0</td>\n",
       "    </tr>\n",
       "  </tbody>\n",
       "</table>\n",
       "</div>"
      ],
      "text/plain": [
       "          count       mean        std  min    25%   50%   75%    max\n",
       "attr1_1   541.0  22.515527  12.727252  0.0  15.00  20.0  25.0  100.0\n",
       "sinc1_1   541.0  17.312699   7.210096  0.0  15.00  18.0  20.0   60.0\n",
       "intel1_1  541.0  20.171423   6.871165  0.0  17.31  20.0  23.0   50.0\n",
       "fun1_1    541.0  17.460425   6.193168  0.0  15.00  18.0  20.0   50.0\n",
       "amb1_1    541.0  10.807967   6.234773  0.0   5.00  10.0  15.0   53.0\n",
       "shar1_1   541.0  11.832126   6.474104  0.0   8.33  11.0  16.0   30.0"
      ]
     },
     "execution_count": 28,
     "metadata": {},
     "output_type": "execute_result"
    }
   ],
   "source": [
    "summary = dfg.drop(['gender'],axis=1).describe()\n",
    "st = summary.transpose()\n",
    "st"
   ]
  },
  {
   "cell_type": "code",
   "execution_count": 46,
   "metadata": {},
   "outputs": [
    {
     "data": {
      "text/plain": [
       "attr1_1     22.515527\n",
       "intel1_1    20.171423\n",
       "fun1_1      17.460425\n",
       "sinc1_1     17.312699\n",
       "shar1_1     11.832126\n",
       "amb1_1      10.807967\n",
       "Name: mean, dtype: float64"
      ]
     },
     "execution_count": 46,
     "metadata": {},
     "output_type": "execute_result"
    }
   ],
   "source": [
    "st['mean'].sort_values(ascending = False)"
   ]
  },
  {
   "cell_type": "code",
   "execution_count": null,
   "metadata": {},
   "outputs": [],
   "source": [
    "#for males and females we have attraction followed by intelligence"
   ]
  },
  {
   "cell_type": "code",
   "execution_count": 9,
   "metadata": {},
   "outputs": [],
   "source": [
    "#lets look at females\n",
    "female = dfg[dfg['gender']==0]"
   ]
  },
  {
   "cell_type": "code",
   "execution_count": 53,
   "metadata": {},
   "outputs": [
    {
     "data": {
      "text/html": [
       "<div>\n",
       "<style scoped>\n",
       "    .dataframe tbody tr th:only-of-type {\n",
       "        vertical-align: middle;\n",
       "    }\n",
       "\n",
       "    .dataframe tbody tr th {\n",
       "        vertical-align: top;\n",
       "    }\n",
       "\n",
       "    .dataframe thead th {\n",
       "        text-align: right;\n",
       "    }\n",
       "</style>\n",
       "<table border=\"1\" class=\"dataframe\">\n",
       "  <thead>\n",
       "    <tr style=\"text-align: right;\">\n",
       "      <th></th>\n",
       "      <th>count</th>\n",
       "      <th>mean</th>\n",
       "      <th>std</th>\n",
       "      <th>min</th>\n",
       "      <th>25%</th>\n",
       "      <th>50%</th>\n",
       "      <th>75%</th>\n",
       "      <th>max</th>\n",
       "    </tr>\n",
       "  </thead>\n",
       "  <tbody>\n",
       "    <tr>\n",
       "      <th>attr1_1</th>\n",
       "      <td>268.0</td>\n",
       "      <td>17.938358</td>\n",
       "      <td>9.856742</td>\n",
       "      <td>0.0</td>\n",
       "      <td>12.180</td>\n",
       "      <td>15.09</td>\n",
       "      <td>20.00</td>\n",
       "      <td>90.0</td>\n",
       "    </tr>\n",
       "    <tr>\n",
       "      <th>sinc1_1</th>\n",
       "      <td>268.0</td>\n",
       "      <td>18.252910</td>\n",
       "      <td>6.972549</td>\n",
       "      <td>0.0</td>\n",
       "      <td>15.000</td>\n",
       "      <td>20.00</td>\n",
       "      <td>20.00</td>\n",
       "      <td>60.0</td>\n",
       "    </tr>\n",
       "    <tr>\n",
       "      <th>intel1_1</th>\n",
       "      <td>268.0</td>\n",
       "      <td>20.937313</td>\n",
       "      <td>6.800901</td>\n",
       "      <td>2.0</td>\n",
       "      <td>17.965</td>\n",
       "      <td>20.00</td>\n",
       "      <td>25.00</td>\n",
       "      <td>50.0</td>\n",
       "    </tr>\n",
       "    <tr>\n",
       "      <th>fun1_1</th>\n",
       "      <td>268.0</td>\n",
       "      <td>17.326343</td>\n",
       "      <td>5.630626</td>\n",
       "      <td>0.0</td>\n",
       "      <td>15.000</td>\n",
       "      <td>18.00</td>\n",
       "      <td>20.00</td>\n",
       "      <td>40.0</td>\n",
       "    </tr>\n",
       "    <tr>\n",
       "      <th>amb1_1</th>\n",
       "      <td>268.0</td>\n",
       "      <td>12.828993</td>\n",
       "      <td>5.468618</td>\n",
       "      <td>0.0</td>\n",
       "      <td>10.000</td>\n",
       "      <td>15.00</td>\n",
       "      <td>16.67</td>\n",
       "      <td>30.0</td>\n",
       "    </tr>\n",
       "    <tr>\n",
       "      <th>shar1_1</th>\n",
       "      <td>268.0</td>\n",
       "      <td>12.697836</td>\n",
       "      <td>5.912185</td>\n",
       "      <td>0.0</td>\n",
       "      <td>10.000</td>\n",
       "      <td>13.21</td>\n",
       "      <td>16.00</td>\n",
       "      <td>30.0</td>\n",
       "    </tr>\n",
       "  </tbody>\n",
       "</table>\n",
       "</div>"
      ],
      "text/plain": [
       "          count       mean       std  min     25%    50%    75%   max\n",
       "attr1_1   268.0  17.938358  9.856742  0.0  12.180  15.09  20.00  90.0\n",
       "sinc1_1   268.0  18.252910  6.972549  0.0  15.000  20.00  20.00  60.0\n",
       "intel1_1  268.0  20.937313  6.800901  2.0  17.965  20.00  25.00  50.0\n",
       "fun1_1    268.0  17.326343  5.630626  0.0  15.000  18.00  20.00  40.0\n",
       "amb1_1    268.0  12.828993  5.468618  0.0  10.000  15.00  16.67  30.0\n",
       "shar1_1   268.0  12.697836  5.912185  0.0  10.000  13.21  16.00  30.0"
      ]
     },
     "execution_count": 53,
     "metadata": {},
     "output_type": "execute_result"
    }
   ],
   "source": [
    "summary = female.drop(['wave','gender'],axis=1).describe()\n",
    "st = summary.transpose()\n",
    "st"
   ]
  },
  {
   "cell_type": "code",
   "execution_count": 56,
   "metadata": {},
   "outputs": [
    {
     "data": {
      "text/plain": [
       "intel1_1    20.937313\n",
       "sinc1_1     18.252910\n",
       "attr1_1     17.938358\n",
       "fun1_1      17.326343\n",
       "amb1_1      12.828993\n",
       "shar1_1     12.697836\n",
       "Name: mean, dtype: float64"
      ]
     },
     "execution_count": 56,
     "metadata": {},
     "output_type": "execute_result"
    }
   ],
   "source": [
    "attributes_female = st['mean'].sort_values(ascending = False)\n",
    "attributes_female"
   ]
  },
  {
   "cell_type": "code",
   "execution_count": 60,
   "metadata": {},
   "outputs": [],
   "source": [
    "#least desired attribute shared interest"
   ]
  },
  {
   "cell_type": "code",
   "execution_count": 57,
   "metadata": {},
   "outputs": [],
   "source": [
    "#lets look at males"
   ]
  },
  {
   "cell_type": "code",
   "execution_count": 10,
   "metadata": {},
   "outputs": [],
   "source": [
    "male = dfg[dfg['gender']==1]"
   ]
  },
  {
   "cell_type": "code",
   "execution_count": 11,
   "metadata": {},
   "outputs": [
    {
     "data": {
      "text/plain": [
       "attr1_1     27.008864\n",
       "intel1_1    19.419560\n",
       "fun1_1      17.592051\n",
       "sinc1_1     16.389707\n",
       "shar1_1     10.982271\n",
       "amb1_1       8.823956\n",
       "Name: mean, dtype: float64"
      ]
     },
     "execution_count": 11,
     "metadata": {},
     "output_type": "execute_result"
    }
   ],
   "source": [
    "summary = male.drop(['wave','gender'],axis=1).describe()\n",
    "st = summary.transpose()\n",
    "\n",
    "attributes_male = st['mean'].sort_values(ascending = False)\n",
    "attributes_male"
   ]
  },
  {
   "cell_type": "code",
   "execution_count": 7,
   "metadata": {},
   "outputs": [],
   "source": [
    "#least desired attribute is ambition"
   ]
  },
  {
   "cell_type": "markdown",
   "metadata": {},
   "source": [
    "Do men and woman fill out responses differently? Lets use PCA to scale 6 dimensions down to 2 and color-compare genders."
   ]
  },
  {
   "cell_type": "code",
   "execution_count": 19,
   "metadata": {},
   "outputs": [
    {
     "name": "stderr",
     "output_type": "stream",
     "text": [
      "/anaconda3/lib/python3.6/site-packages/sklearn/preprocessing/data.py:625: DataConversionWarning: Data with input dtype int64, float64 were all converted to float64 by StandardScaler.\n",
      "  return self.partial_fit(X, y)\n",
      "/anaconda3/lib/python3.6/site-packages/ipykernel_launcher.py:8: DataConversionWarning: Data with input dtype int64, float64 were all converted to float64 by StandardScaler.\n",
      "  \n"
     ]
    }
   ],
   "source": [
    "#PCA\n",
    "\n",
    "from sklearn.preprocessing import StandardScaler\n",
    "\n",
    "scaler = StandardScaler()\n",
    "scaler.fit(dfg)\n",
    "\n",
    "scale = scaler.transform(dfg)"
   ]
  },
  {
   "cell_type": "code",
   "execution_count": 20,
   "metadata": {},
   "outputs": [
    {
     "data": {
      "text/plain": [
       "PCA(copy=True, iterated_power='auto', n_components=2, random_state=None,\n",
       "  svd_solver='auto', tol=0.0, whiten=False)"
      ]
     },
     "execution_count": 20,
     "metadata": {},
     "output_type": "execute_result"
    }
   ],
   "source": [
    "from sklearn.decomposition import PCA\n",
    "\n",
    "pca = PCA(n_components=2)\n",
    "pca.fit(scale)"
   ]
  },
  {
   "cell_type": "code",
   "execution_count": 23,
   "metadata": {},
   "outputs": [],
   "source": [
    "x_pca = pca.transform(scale)"
   ]
  },
  {
   "cell_type": "code",
   "execution_count": 29,
   "metadata": {},
   "outputs": [
    {
     "data": {
      "text/plain": [
       "<matplotlib.colorbar.Colorbar at 0x1a1c70ee10>"
      ]
     },
     "execution_count": 29,
     "metadata": {},
     "output_type": "execute_result"
    },
    {
     "data": {
      "image/png": "[encoded data removed]",
      "text/plain": [
       "<Figure size 576x432 with 2 Axes>"
      ]
     },
     "metadata": {
      "needs_background": "light"
     },
     "output_type": "display_data"
    }
   ],
   "source": [
    "plt.figure(figsize=(8,6)) \n",
    "plt.scatter(x_pca[:,0],x_pca[:,1],s=14,c=dfg['gender'],cmap='RdYlBu',alpha=.5)\n",
    "plt.colorbar()"
   ]
  },
  {
   "cell_type": "markdown",
   "metadata": {},
   "source": [
    "Perhaps it would be wise to split up male and female in our model."
   ]
  }
 ],
 "metadata": {
  "kernelspec": {
   "display_name": "Python 3",
   "language": "python",
   "name": "python3"
  },
  "language_info": {
   "codemirror_mode": {
    "name": "ipython",
    "version": 3
   },
   "file_extension": ".py",
   "mimetype": "text/x-python",
   "name": "python",
   "nbconvert_exporter": "python",
   "pygments_lexer": "ipython3",
   "version": "3.6.8"
  }
 },
 "nbformat": 4,
 "nbformat_minor": 2
}
